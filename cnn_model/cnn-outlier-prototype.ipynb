{
 "cells": [
  {
   "cell_type": "code",
   "execution_count": 149,
   "metadata": {
    "colab": {
     "autoexec": {
      "startup": false,
      "wait_interval": 0
     }
    },
    "colab_type": "code",
    "id": "5312sEasBeYc"
   },
   "outputs": [],
   "source": [
    "import numpy as np\n",
    "np.random.seed(1)\n",
    "import numpy as np\n",
    "import os\n",
    "import pandas as pd\n",
    "import matplotlib.pyplot as plt\n",
    "import matplotlib.animation as animation\n",
    "from keras.models import Model,Sequential,save_model,load_model\n",
    "from keras.layers import Dense, Input, Dropout, LSTM, Activation,BatchNormalization\n",
    "from sklearn.model_selection import train_test_split\n",
    "\n",
    "# ===================================================================================\n",
    "# Data loading part\n",
    "# ===================================================================================\n",
    "def all_stock_name():\n",
    "    filenames = os.listdir(path)\n",
    "    temp = [filename for filename in filenames if filename.endswith('.csv')]\n",
    "    # print temp\n",
    "    return [x.replace('.csv', '') for x in temp]\n",
    "\n",
    "def single_stock_data(stock_name):\n",
    "    data_path = os.path.join(path, stock_name + '.csv')\n",
    "    df = pd.DataFrame.from_csv(data_path, header=None, parse_dates=[[0, 1]])\n",
    "    df.columns = ['Open', 'High', 'Low', 'Close', 'Outstanding', 'Turnover']\n",
    "    # header=['date','time','open','high','low','close','outstanding','turnover']\n",
    "    return df\n",
    "  \n",
    "def get_file_from_csv(data_path):\n",
    "    df = pd.DataFrame.from_csv(data_path, header=None, parse_dates=[[0, 1]])\n",
    "    df.columns = ['Open', 'High', 'Low', 'Close', 'Outstanding', 'Turnover']\n",
    "    # header=['date','time','open','high','low','close','outstanding','turnover']\n",
    "    return df\n",
    "\n",
    "def divide_data(X,Y):\n",
    "    return train_test_split(X, Y,test_size = 0.05, random_state = 42)\n",
    "\n",
    "\n",
    "\n",
    "def norm_ts(Z):\n",
    "    Z_norm = (Z - Z.min()) / (Z.max() - Z.min())\n",
    "    invert_func = lambda X: (Z.max() - Z.min())*X + Z.min()\n",
    "    return Z_norm,invert_func\n",
    "\n",
    "\n",
    "def one_step_predict(model,train_features, train_labels):\n",
    "    model.fit(train_features, train_labels, epochs=1, batch_size=64, shuffle=True)\n",
    "    return model\n",
    "\n",
    "# ===================================================================================\n",
    "# Visualization the model\n",
    "# ===================================================================================\n",
    "def animation_train_and_test(train_labels, test_labels, predict_spread_1, predict_spread_2):\n",
    "    # Configure the training plot\n",
    "    fig = plt.figure()\n",
    "    axes1 = fig.add_subplot(121)\n",
    "    axes2 = fig.add_subplot(122)\n",
    "    line, = axes1.plot(train_labels, np.zeros(train_labels.shape), 'ro')\n",
    "    axes1.set_title('High Price')\n",
    "    axes1.set_xlabel('Actual')\n",
    "    axes1.set_ylabel('Model')\n",
    "    line2, = axes2.plot(test_labels, np.zeros(test_labels.shape), 'bo')\n",
    "    axes2.set_title('Low Price')\n",
    "    axes2.set_xlabel('Actual')\n",
    "    axes2.set_ylabel('Model')\n",
    "    axes1.set_ylim([0, 1])\n",
    "    axes2.set_ylim([0, 1])\n",
    "\n",
    "    def corr_plt(data):\n",
    "        line.set_ydata(data)\n",
    "        return line,\n",
    "\n",
    "    def corr_plt2(data):\n",
    "        line2.set_ydata(data)\n",
    "        return line2,\n",
    "\n",
    "    ani = animation.FuncAnimation(fig, corr_plt, predict_spread_1, interval=1000)\n",
    "    ani2 = animation.FuncAnimation(fig, corr_plt2, predict_spread_2, interval=1000)\n",
    "    plt.show()\n",
    "\n",
    "\n",
    "def very_simple_benchmark_model(X):\n",
    "    daytimes = X.shape[1]\n",
    "    x2 = np.linspace(0, daytimes - 1, num=daytimes)\n",
    "    out = np.zeros((X.shape[0],1))\n",
    "    for s in range(X.shape[0]):\n",
    "        y1 = X[s,:,0]\n",
    "        z = np.polyfit(x2, y1, 2)\n",
    "        f = np.poly1d(z)\n",
    "        out[s, 0] = f(daytimes)\n",
    "    return out\n",
    "\n",
    "  "
   ]
  },
  {
   "cell_type": "code",
   "execution_count": 150,
   "metadata": {
    "colab": {
     "autoexec": {
      "startup": false,
      "wait_interval": 0
     },
     "base_uri": "https://localhost:8080/",
     "height": 73,
     "output_extras": [
      {
       "item_id": 1
      },
      {
       "item_id": 2
      }
     ],
     "resources": {
      "http://localhost:8080/nbextensions/google.colab/files.js": {
       "data": "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",
       "headers": [
        [
         "content-type",
         "application/javascript"
        ]
       ],
       "ok": true,
       "status": 200,
       "status_text": ""
      }
     }
    },
    "colab_type": "code",
    "executionInfo": {
     "elapsed": 37303,
     "status": "ok",
     "timestamp": 1521980429279,
     "user": {
      "displayName": "Shengyao Zhu",
      "photoUrl": "//lh6.googleusercontent.com/-VNGlsIecUiQ/AAAAAAAAAAI/AAAAAAAABMw/unjAgsJoFRE/s50-c-k-no/photo.jpg",
      "userId": "101418951298501362533"
     },
     "user_tz": -120
    },
    "id": "Zdx63qoUOB_x",
    "outputId": "470b296b-64df-4aee-b9d5-6a3612e69c1b"
   },
   "outputs": [],
   "source": [
    "#from google.colab import files\n",
    "#uploaded = files.upload()"
   ]
  },
  {
   "cell_type": "code",
   "execution_count": 214,
   "metadata": {
    "colab": {
     "autoexec": {
      "startup": false,
      "wait_interval": 0
     },
     "base_uri": "https://localhost:8080/",
     "height": 54,
     "output_extras": [
      {
       "item_id": 1
      }
     ]
    },
    "colab_type": "code",
    "executionInfo": {
     "elapsed": 783,
     "status": "ok",
     "timestamp": 1521983164409,
     "user": {
      "displayName": "Shengyao Zhu",
      "photoUrl": "//lh6.googleusercontent.com/-VNGlsIecUiQ/AAAAAAAAAAI/AAAAAAAABMw/unjAgsJoFRE/s50-c-k-no/photo.jpg",
      "userId": "101418951298501362533"
     },
     "user_tz": -120
    },
    "id": "pKZeS0tbiaqQ",
    "outputId": "5a7fe63d-adde-4d5c-8d81-24cec0ad69a0"
   },
   "outputs": [
    {
     "name": "stderr",
     "output_type": "stream",
     "text": [
      "C:\\working\\ML_Python\\Python3\\python-3.6.2.amd64\\lib\\site-packages\\ipykernel_launcher.py:29: FutureWarning: from_csv is deprecated. Please use read_csv(...) instead. Note that some of the default arguments are different, so please refer to the documentation for from_csv when changing your function calls\n"
     ]
    }
   ],
   "source": [
    "from keras.optimizers import adam\n",
    "import random\n",
    "\n",
    "path = r\"C:\\working\\data_2012_07_2012_12\\data\\SH600036.csv\"\n",
    "df = get_file_from_csv(path)\n",
    "dev_set = 20000\n",
    "# random time\n",
    "time_list = df.index.tolist()\n",
    "lookback = 20\n",
    "timewindow = 30\n",
    "indices = random.sample(range(lookback+1, len(time_list)-timewindow), dev_set)\n"
   ]
  },
  {
   "cell_type": "code",
   "execution_count": 216,
   "metadata": {
    "colab": {
     "autoexec": {
      "startup": false,
      "wait_interval": 0
     }
    },
    "colab_type": "code",
    "id": "uKWDnKVKmwjW"
   },
   "outputs": [],
   "source": [
    "# ===================================================================================\n",
    "# Generate x and y\n",
    "# ===================================================================================\n",
    "def x_y_new(df,indices,outlier_prob=0.5,time_window =60,lookback = 55):\n",
    "    M = len(indices)\n",
    "    N = time_window +1\n",
    "    # add time demension\n",
    "    X = np.zeros((M, N, 2, 1))\n",
    "    Y = np.zeros((M))\n",
    "    \n",
    "    \n",
    "    # get the close price from the df\n",
    "    raw_Z = np.zeros((len(df),7))\n",
    "    raw_Z[:,0:6] = df.values\n",
    "    raw_Z[:,6] = [x.value for x in df.index]\n",
    "    \n",
    "    norm_Z,invert_func = norm_ts(raw_Z[:,3])\n",
    "    \n",
    "    # generate trades\n",
    "    for i in range(M):\n",
    "        \n",
    "      # take a snapshot from the original time series around the trading time\n",
    "      z_local = norm_Z[indices[i] - lookback : indices[i] - lookback + time_window ]\n",
    "        \n",
    "      # create a two line array, one is benchmark trade line, one is actual trade line.\n",
    "      # the only differences between the two line is the point on actual tradeing time\n",
    "      # the benchmark line is average between last and next trades, the actual trade line is the actual price\n",
    "      local_x = np.zeros((N,2,1))\n",
    "      \n",
    "      # firstly we create a benchmark trades line, the benchmark trades line contain all normal trades\n",
    "      # and the price on trading time is calculated by average of the two\n",
    "      local_x[0:lookback,0,0] = z_local[0:lookback]\n",
    "      local_x[lookback+1:,0,0] = z_local[lookback:]\n",
    "      local_x[lookback,0,0] = (z_local[lookback-1] + z_local[lookback])/2.0\n",
    "    \n",
    "      # then we generate the actual trade line\n",
    "      local_x[:,1,0] = local_x[:,0,0]\n",
    "      reasonable_range = local_x[lookback-5:lookback+3,0,0]\n",
    "      min_reasonable = min(reasonable_range)\n",
    "      max_reasonable = max(reasonable_range)\n",
    "      temp = random.random()\n",
    "      if temp > 0.5:\n",
    "        trade_price = random.random()*(max_reasonable - min_reasonable) + min_reasonable\n",
    "        Y[i] = 0.0\n",
    "      elif temp > 0.25:\n",
    "        trade_price = random.random()*(max_reasonable - min_reasonable) + max_reasonable\n",
    "        Y[i] = 1.0\n",
    "      else:\n",
    "        trade_price = -random.random()*(max_reasonable - min_reasonable) + min_reasonable\n",
    "        Y[i] = 1.0\n",
    "      local_x[lookback,1,0] = trade_price\n",
    "      \n",
    "      local_x,_ = norm_ts(local_x)\n",
    "        \n",
    "        \n",
    "      X[i,:,:,:] = local_x  \n",
    "    return X,Y\n"
   ]
  },
  {
   "cell_type": "code",
   "execution_count": 217,
   "metadata": {
    "colab": {
     "autoexec": {
      "startup": false,
      "wait_interval": 0
     }
    },
    "colab_type": "code",
    "id": "R29S4aqIvcMu"
   },
   "outputs": [
    {
     "name": "stdout",
     "output_type": "stream",
     "text": [
      "(20000, 31, 2, 1)\n"
     ]
    }
   ],
   "source": [
    "X,Y = x_y_new(df,indices,lookback = lookback,time_window = timewindow)\n",
    "\n",
    "print(X.shape)"
   ]
  },
  {
   "cell_type": "code",
   "execution_count": 218,
   "metadata": {
    "colab": {
     "autoexec": {
      "startup": false,
      "wait_interval": 0
     },
     "base_uri": "https://localhost:8080/",
     "height": 368,
     "output_extras": [
      {
       "item_id": 1
      },
      {
       "item_id": 2
      }
     ]
    },
    "colab_type": "code",
    "executionInfo": {
     "elapsed": 624,
     "status": "ok",
     "timestamp": 1521983428251,
     "user": {
      "displayName": "Shengyao Zhu",
      "photoUrl": "//lh6.googleusercontent.com/-VNGlsIecUiQ/AAAAAAAAAAI/AAAAAAAABMw/unjAgsJoFRE/s50-c-k-no/photo.jpg",
      "userId": "101418951298501362533"
     },
     "user_tz": -120
    },
    "id": "ruqjAhzfNxC8",
    "outputId": "9accd16f-9c0f-4758-d44d-396109653fb3"
   },
   "outputs": [
    {
     "data": {
      "image/png": "[encoded data removed]",
      "text/plain": [
       "<matplotlib.figure.Figure at 0x28f2e4e0>"
      ]
     },
     "metadata": {},
     "output_type": "display_data"
    },
    {
     "name": "stdout",
     "output_type": "stream",
     "text": [
      "1.0\n"
     ]
    }
   ],
   "source": [
    "import matplotlib.pyplot as plt\n",
    "idx = 1453\n",
    "plt.plot(X[idx,:,1,0],'b*' )\n",
    "plt.plot(X[idx,:,0,0],'r*-' )\n",
    "plt.show()\n",
    "print(Y[idx])"
   ]
  },
  {
   "cell_type": "code",
   "execution_count": 219,
   "metadata": {
    "colab": {
     "autoexec": {
      "startup": false,
      "wait_interval": 0
     },
     "base_uri": "https://localhost:8080/",
     "height": 119,
     "output_extras": [
      {
       "item_id": 1
      }
     ]
    },
    "colab_type": "code",
    "executionInfo": {
     "elapsed": 621,
     "status": "ok",
     "timestamp": 1521983175842,
     "user": {
      "displayName": "Shengyao Zhu",
      "photoUrl": "//lh6.googleusercontent.com/-VNGlsIecUiQ/AAAAAAAAAAI/AAAAAAAABMw/unjAgsJoFRE/s50-c-k-no/photo.jpg",
      "userId": "101418951298501362533"
     },
     "user_tz": -120
    },
    "id": "4Zis3iBuBeZi",
    "outputId": "e9d5d190-d69c-461a-b34f-7c4d14e74d34"
   },
   "outputs": [
    {
     "name": "stdout",
     "output_type": "stream",
     "text": [
      "number of training examples = 19000\n",
      "number of test examples = 1000\n",
      "X_train shape: (19000, 31, 2, 1)\n",
      "Y_train shape: (19000, 2)\n",
      "X_test shape: (1000, 31, 2, 1)\n",
      "Y_test shape: (1000, 2)\n"
     ]
    }
   ],
   "source": [
    "import keras\n",
    "from keras.models import Sequential\n",
    "from keras.layers import Dense, Dropout, Activation, Flatten\n",
    "from keras.layers import Conv2D, MaxPooling2D\n",
    "\n",
    "\n",
    "# Loading the data (signs)\n",
    "X_train,  X_test, Y_train_orig,Y_test_orig= divide_data(X,Y)\n",
    "\n",
    "\n",
    "\n",
    "# Convert class vectors to binary class matrices.\n",
    "num_classes = 2\n",
    "Y_train = keras.utils.to_categorical(Y_train_orig.T, num_classes)\n",
    "Y_test = keras.utils.to_categorical(Y_test_orig.T, num_classes)\n",
    "\n",
    "\n",
    "print(\"number of training examples = \" + str(X_train.shape[0]))\n",
    "print(\"number of test examples = \" + str(X_test.shape[0]))\n",
    "print(\"X_train shape: \" + str(X_train.shape))\n",
    "print(\"Y_train shape: \" + str(Y_train.shape))\n",
    "print(\"X_test shape: \" + str(X_test.shape))\n",
    "print(\"Y_test shape: \" + str(Y_test.shape))\n"
   ]
  },
  {
   "cell_type": "code",
   "execution_count": 220,
   "metadata": {
    "colab": {
     "autoexec": {
      "startup": false,
      "wait_interval": 0
     }
    },
    "colab_type": "code",
    "id": "2x7CvSBaBeZM"
   },
   "outputs": [],
   "source": [
    "model = Sequential()\n",
    "\n",
    "model.add(Conv2D(48, (4, 4),padding='same',input_shape=X_train.shape[1:]))\n",
    "model.add(Activation('relu'))\n",
    "model.add(MaxPooling2D(pool_size=(2, 2),padding='same'))\n",
    "model.add(Conv2D(16, (4, 4),padding='same'))\n",
    "model.add(Activation('relu'))\n",
    "model.add(MaxPooling2D(pool_size=(4, 4),padding='same'))\n",
    "model.add(Conv2D(16, (4, 4),padding='same'))\n",
    "model.add(Activation('relu'))\n",
    "model.add(MaxPooling2D(pool_size=(4, 4),padding='same'))\n",
    "model.add(Flatten())\n",
    "model.add(Dense(num_classes))\n",
    "model.add(Activation('softmax'))"
   ]
  },
  {
   "cell_type": "code",
   "execution_count": 221,
   "metadata": {
    "colab": {
     "autoexec": {
      "startup": false,
      "wait_interval": 0
     },
     "base_uri": "https://localhost:8080/",
     "height": 2210,
     "output_extras": [
      {
       "item_id": 9
      },
      {
       "item_id": 31
      },
      {
       "item_id": 59
      },
      {
       "item_id": 96
      },
      {
       "item_id": 134
      },
      {
       "item_id": 173
      },
      {
       "item_id": 201
      },
      {
       "item_id": 221
      },
      {
       "item_id": 258
      },
      {
       "item_id": 260
      },
      {
       "item_id": 261
      }
     ]
    },
    "colab_type": "code",
    "executionInfo": {
     "elapsed": 82634,
     "status": "ok",
     "timestamp": 1521983266742,
     "user": {
      "displayName": "Shengyao Zhu",
      "photoUrl": "//lh6.googleusercontent.com/-VNGlsIecUiQ/AAAAAAAAAAI/AAAAAAAABMw/unjAgsJoFRE/s50-c-k-no/photo.jpg",
      "userId": "101418951298501362533"
     },
     "user_tz": -120
    },
    "id": "m-dbnyV0CK7c",
    "outputId": "23f9f367-b9f9-4631-aa19-5224266ca1ab"
   },
   "outputs": [
    {
     "name": "stdout",
     "output_type": "stream",
     "text": [
      "_________________________________________________________________\n",
      "Layer (type)                 Output Shape              Param #   \n",
      "=================================================================\n",
      "conv2d_46 (Conv2D)           (None, 31, 2, 48)         816       \n",
      "_________________________________________________________________\n",
      "activation_67 (Activation)   (None, 31, 2, 48)         0         \n",
      "_________________________________________________________________\n",
      "max_pooling2d_46 (MaxPooling (None, 16, 1, 48)         0         \n",
      "_________________________________________________________________\n",
      "conv2d_47 (Conv2D)           (None, 16, 1, 16)         12304     \n",
      "_________________________________________________________________\n",
      "activation_68 (Activation)   (None, 16, 1, 16)         0         \n",
      "_________________________________________________________________\n",
      "max_pooling2d_47 (MaxPooling (None, 4, 1, 16)          0         \n",
      "_________________________________________________________________\n",
      "conv2d_48 (Conv2D)           (None, 4, 1, 16)          4112      \n",
      "_________________________________________________________________\n",
      "activation_69 (Activation)   (None, 4, 1, 16)          0         \n",
      "_________________________________________________________________\n",
      "max_pooling2d_48 (MaxPooling (None, 1, 1, 16)          0         \n",
      "_________________________________________________________________\n",
      "flatten_18 (Flatten)         (None, 16)                0         \n",
      "_________________________________________________________________\n",
      "dense_24 (Dense)             (None, 2)                 34        \n",
      "_________________________________________________________________\n",
      "activation_70 (Activation)   (None, 2)                 0         \n",
      "=================================================================\n",
      "Total params: 17,266\n",
      "Trainable params: 17,266\n",
      "Non-trainable params: 0\n",
      "_________________________________________________________________\n",
      "Train on 19000 samples, validate on 1000 samples\n",
      "Epoch 1/100\n",
      "19000/19000 [==============================] - 5s 247us/step - loss: 0.6927 - acc: 0.5014 - val_loss: 0.6923 - val_acc: 0.4980\n",
      "Epoch 2/100\n",
      "19000/19000 [==============================] - 4s 199us/step - loss: 0.6907 - acc: 0.5243 - val_loss: 0.6891 - val_acc: 0.5270\n",
      "Epoch 3/100\n",
      "19000/19000 [==============================] - 4s 197us/step - loss: 0.6840 - acc: 0.6235 - val_loss: 0.6800 - val_acc: 0.5630\n",
      "Epoch 4/100\n",
      "19000/19000 [==============================] - 4s 205us/step - loss: 0.6652 - acc: 0.7121 - val_loss: 0.6532 - val_acc: 0.7160\n",
      "Epoch 5/100\n",
      "19000/19000 [==============================] - 4s 214us/step - loss: 0.6277 - acc: 0.7567 - val_loss: 0.6104 - val_acc: 0.7260\n",
      "Epoch 6/100\n",
      "19000/19000 [==============================] - 4s 216us/step - loss: 0.5761 - acc: 0.7728 - val_loss: 0.5633 - val_acc: 0.7590\n",
      "Epoch 7/100\n",
      "19000/19000 [==============================] - 4s 217us/step - loss: 0.5282 - acc: 0.7841 - val_loss: 0.5225 - val_acc: 0.7680\n",
      "Epoch 8/100\n",
      "19000/19000 [==============================] - 4s 212us/step - loss: 0.4935 - acc: 0.7913 - val_loss: 0.4968 - val_acc: 0.7750\n",
      "Epoch 9/100\n",
      "19000/19000 [==============================] - 4s 221us/step - loss: 0.4679 - acc: 0.7986 - val_loss: 0.4818 - val_acc: 0.7840\n",
      "Epoch 10/100\n",
      "19000/19000 [==============================] - 4s 235us/step - loss: 0.4498 - acc: 0.8063 - val_loss: 0.4696 - val_acc: 0.7670\n",
      "Epoch 11/100\n",
      "19000/19000 [==============================] - 4s 235us/step - loss: 0.4355 - acc: 0.8118 - val_loss: 0.4499 - val_acc: 0.7910\n",
      "Epoch 12/100\n",
      "19000/19000 [==============================] - 5s 238us/step - loss: 0.4222 - acc: 0.8171 - val_loss: 0.4385 - val_acc: 0.8030\n",
      "Epoch 13/100\n",
      "19000/19000 [==============================] - 4s 213us/step - loss: 0.4110 - acc: 0.8210 - val_loss: 0.4402 - val_acc: 0.7850\n",
      "Epoch 14/100\n",
      "19000/19000 [==============================] - 4s 216us/step - loss: 0.4012 - acc: 0.8247 - val_loss: 0.4181 - val_acc: 0.8080\n",
      "Epoch 15/100\n",
      "19000/19000 [==============================] - 4s 218us/step - loss: 0.3917 - acc: 0.8306 - val_loss: 0.4199 - val_acc: 0.7970\n",
      "Epoch 16/100\n",
      "19000/19000 [==============================] - 4s 235us/step - loss: 0.3834 - acc: 0.8352 - val_loss: 0.4011 - val_acc: 0.8070\n",
      "Epoch 17/100\n",
      "19000/19000 [==============================] - 4s 233us/step - loss: 0.3744 - acc: 0.8396 - val_loss: 0.3925 - val_acc: 0.8160\n",
      "Epoch 18/100\n",
      "19000/19000 [==============================] - 5s 237us/step - loss: 0.3680 - acc: 0.8411 - val_loss: 0.3829 - val_acc: 0.8190\n",
      "Epoch 19/100\n",
      "19000/19000 [==============================] - 4s 232us/step - loss: 0.3614 - acc: 0.8448 - val_loss: 0.3748 - val_acc: 0.8320\n",
      "Epoch 20/100\n",
      "19000/19000 [==============================] - 4s 234us/step - loss: 0.3538 - acc: 0.8493 - val_loss: 0.3671 - val_acc: 0.8410\n",
      "Epoch 21/100\n",
      "19000/19000 [==============================] - 4s 235us/step - loss: 0.3493 - acc: 0.8516 - val_loss: 0.3610 - val_acc: 0.8430\n",
      "Epoch 22/100\n",
      "19000/19000 [==============================] - 4s 231us/step - loss: 0.3433 - acc: 0.8536 - val_loss: 0.3547 - val_acc: 0.8450\n",
      "Epoch 23/100\n",
      "19000/19000 [==============================] - 4s 236us/step - loss: 0.3400 - acc: 0.8539 - val_loss: 0.3493 - val_acc: 0.8490\n",
      "Epoch 24/100\n",
      "19000/19000 [==============================] - 4s 234us/step - loss: 0.3330 - acc: 0.8582 - val_loss: 0.3473 - val_acc: 0.8460\n",
      "Epoch 25/100\n",
      "19000/19000 [==============================] - 4s 233us/step - loss: 0.3291 - acc: 0.8602 - val_loss: 0.3425 - val_acc: 0.8480\n",
      "Epoch 26/100\n",
      "19000/19000 [==============================] - 4s 234us/step - loss: 0.3259 - acc: 0.8585 - val_loss: 0.3350 - val_acc: 0.8610\n",
      "Epoch 27/100\n",
      "19000/19000 [==============================] - 4s 234us/step - loss: 0.3218 - acc: 0.8641 - val_loss: 0.3407 - val_acc: 0.8450\n",
      "Epoch 28/100\n",
      "19000/19000 [==============================] - 4s 234us/step - loss: 0.3181 - acc: 0.8651 - val_loss: 0.3270 - val_acc: 0.8580\n",
      "Epoch 29/100\n",
      "19000/19000 [==============================] - 4s 236us/step - loss: 0.3145 - acc: 0.8661 - val_loss: 0.3213 - val_acc: 0.8600\n",
      "Epoch 30/100\n",
      "19000/19000 [==============================] - 4s 236us/step - loss: 0.3110 - acc: 0.8670 - val_loss: 0.3206 - val_acc: 0.8560\n",
      "Epoch 31/100\n",
      "19000/19000 [==============================] - 4s 235us/step - loss: 0.3095 - acc: 0.8668 - val_loss: 0.3145 - val_acc: 0.8620\n",
      "Epoch 32/100\n",
      "19000/19000 [==============================] - 4s 223us/step - loss: 0.3061 - acc: 0.8711 - val_loss: 0.3112 - val_acc: 0.8630\n",
      "Epoch 33/100\n",
      "19000/19000 [==============================] - 4s 215us/step - loss: 0.3026 - acc: 0.8718 - val_loss: 0.3118 - val_acc: 0.8660\n",
      "Epoch 34/100\n",
      "19000/19000 [==============================] - 4s 209us/step - loss: 0.3020 - acc: 0.8703 - val_loss: 0.3084 - val_acc: 0.8670\n",
      "Epoch 35/100\n",
      "19000/19000 [==============================] - 4s 221us/step - loss: 0.2981 - acc: 0.8723 - val_loss: 0.3009 - val_acc: 0.8750\n",
      "Epoch 36/100\n",
      "19000/19000 [==============================] - 4s 223us/step - loss: 0.2955 - acc: 0.8738 - val_loss: 0.2984 - val_acc: 0.8750\n",
      "Epoch 37/100\n",
      "19000/19000 [==============================] - 4s 226us/step - loss: 0.2924 - acc: 0.8752 - val_loss: 0.2958 - val_acc: 0.8780\n",
      "Epoch 38/100\n",
      "19000/19000 [==============================] - 4s 226us/step - loss: 0.2905 - acc: 0.8755 - val_loss: 0.2944 - val_acc: 0.8780\n",
      "Epoch 39/100\n",
      "19000/19000 [==============================] - 4s 226us/step - loss: 0.2891 - acc: 0.8761 - val_loss: 0.2907 - val_acc: 0.8810\n",
      "Epoch 40/100\n",
      "19000/19000 [==============================] - 4s 227us/step - loss: 0.2877 - acc: 0.8762 - val_loss: 0.2895 - val_acc: 0.8720\n",
      "Epoch 41/100\n",
      "19000/19000 [==============================] - 4s 234us/step - loss: 0.2852 - acc: 0.8772 - val_loss: 0.2905 - val_acc: 0.8740\n",
      "Epoch 42/100\n",
      "19000/19000 [==============================] - 4s 217us/step - loss: 0.2821 - acc: 0.8794 - val_loss: 0.2834 - val_acc: 0.8820\n",
      "Epoch 43/100\n",
      "19000/19000 [==============================] - 4s 221us/step - loss: 0.2824 - acc: 0.8785 - val_loss: 0.2859 - val_acc: 0.8710\n",
      "Epoch 44/100\n",
      "19000/19000 [==============================] - 4s 216us/step - loss: 0.2796 - acc: 0.8808 - val_loss: 0.2817 - val_acc: 0.8740\n",
      "Epoch 45/100\n"
     ]
    },
    {
     "name": "stdout",
     "output_type": "stream",
     "text": [
      "19000/19000 [==============================] - 4s 200us/step - loss: 0.2771 - acc: 0.8815 - val_loss: 0.2778 - val_acc: 0.8820\n",
      "Epoch 46/100\n",
      "19000/19000 [==============================] - 4s 198us/step - loss: 0.2751 - acc: 0.8823 - val_loss: 0.2834 - val_acc: 0.8830\n",
      "Epoch 47/100\n",
      "19000/19000 [==============================] - 4s 201us/step - loss: 0.2740 - acc: 0.8829 - val_loss: 0.2760 - val_acc: 0.8800\n",
      "Epoch 48/100\n",
      "19000/19000 [==============================] - 4s 201us/step - loss: 0.2714 - acc: 0.8843 - val_loss: 0.2749 - val_acc: 0.8760\n",
      "Epoch 49/100\n",
      "19000/19000 [==============================] - 4s 200us/step - loss: 0.2705 - acc: 0.8834 - val_loss: 0.2818 - val_acc: 0.8770\n",
      "Epoch 50/100\n",
      "19000/19000 [==============================] - 4s 199us/step - loss: 0.2715 - acc: 0.8855 - val_loss: 0.2696 - val_acc: 0.8810\n",
      "Epoch 51/100\n",
      "19000/19000 [==============================] - 4s 199us/step - loss: 0.2676 - acc: 0.8835 - val_loss: 0.2682 - val_acc: 0.8820\n",
      "Epoch 52/100\n",
      "19000/19000 [==============================] - 4s 210us/step - loss: 0.2669 - acc: 0.8849 - val_loss: 0.2676 - val_acc: 0.8800\n",
      "Epoch 53/100\n",
      "19000/19000 [==============================] - 4s 223us/step - loss: 0.2647 - acc: 0.8870 - val_loss: 0.2682 - val_acc: 0.8810\n",
      "Epoch 54/100\n",
      "19000/19000 [==============================] - 4s 206us/step - loss: 0.2636 - acc: 0.8873 - val_loss: 0.2648 - val_acc: 0.8860\n",
      "Epoch 55/100\n",
      "19000/19000 [==============================] - 4s 206us/step - loss: 0.2625 - acc: 0.8872 - val_loss: 0.2628 - val_acc: 0.8870\n",
      "Epoch 56/100\n",
      "19000/19000 [==============================] - 4s 206us/step - loss: 0.2606 - acc: 0.8884 - val_loss: 0.2622 - val_acc: 0.8870\n",
      "Epoch 57/100\n",
      "19000/19000 [==============================] - 4s 206us/step - loss: 0.2595 - acc: 0.8888 - val_loss: 0.2633 - val_acc: 0.8840\n",
      "Epoch 58/100\n",
      "19000/19000 [==============================] - 4s 203us/step - loss: 0.2572 - acc: 0.8897 - val_loss: 0.2607 - val_acc: 0.8840\n",
      "Epoch 59/100\n",
      "19000/19000 [==============================] - 4s 204us/step - loss: 0.2558 - acc: 0.8908 - val_loss: 0.2582 - val_acc: 0.8880\n",
      "Epoch 60/100\n",
      "19000/19000 [==============================] - 4s 207us/step - loss: 0.2548 - acc: 0.8917 - val_loss: 0.2563 - val_acc: 0.8880\n",
      "Epoch 61/100\n",
      "19000/19000 [==============================] - 4s 222us/step - loss: 0.2551 - acc: 0.8898 - val_loss: 0.2583 - val_acc: 0.8820\n",
      "Epoch 62/100\n",
      "19000/19000 [==============================] - 4s 220us/step - loss: 0.2536 - acc: 0.8923 - val_loss: 0.2576 - val_acc: 0.8890\n",
      "Epoch 63/100\n",
      "19000/19000 [==============================] - 4s 220us/step - loss: 0.2514 - acc: 0.8935 - val_loss: 0.2533 - val_acc: 0.8890\n",
      "Epoch 64/100\n",
      "19000/19000 [==============================] - 4s 220us/step - loss: 0.2506 - acc: 0.8925 - val_loss: 0.2555 - val_acc: 0.8940\n",
      "Epoch 65/100\n",
      "19000/19000 [==============================] - 4s 221us/step - loss: 0.2487 - acc: 0.8932 - val_loss: 0.2523 - val_acc: 0.8890\n",
      "Epoch 66/100\n",
      "19000/19000 [==============================] - 4s 220us/step - loss: 0.2481 - acc: 0.8934 - val_loss: 0.2521 - val_acc: 0.8860\n",
      "Epoch 67/100\n",
      "19000/19000 [==============================] - 4s 224us/step - loss: 0.2475 - acc: 0.8936 - val_loss: 0.2504 - val_acc: 0.8870\n",
      "Epoch 68/100\n",
      "19000/19000 [==============================] - 5s 239us/step - loss: 0.2460 - acc: 0.8948 - val_loss: 0.2500 - val_acc: 0.8910\n",
      "Epoch 69/100\n",
      "19000/19000 [==============================] - 5s 240us/step - loss: 0.2452 - acc: 0.8958 - val_loss: 0.2480 - val_acc: 0.8940\n",
      "Epoch 70/100\n",
      "19000/19000 [==============================] - 4s 233us/step - loss: 0.2435 - acc: 0.8969 - val_loss: 0.2467 - val_acc: 0.8920\n",
      "Epoch 71/100\n",
      "19000/19000 [==============================] - 4s 237us/step - loss: 0.2438 - acc: 0.8944 - val_loss: 0.2536 - val_acc: 0.8940\n",
      "Epoch 72/100\n",
      "19000/19000 [==============================] - 4s 230us/step - loss: 0.2425 - acc: 0.8946 - val_loss: 0.2544 - val_acc: 0.8850\n",
      "Epoch 73/100\n",
      "19000/19000 [==============================] - 4s 236us/step - loss: 0.2400 - acc: 0.8979 - val_loss: 0.2462 - val_acc: 0.8900\n",
      "Epoch 74/100\n",
      "19000/19000 [==============================] - 4s 226us/step - loss: 0.2398 - acc: 0.8964 - val_loss: 0.2500 - val_acc: 0.8900\n",
      "Epoch 75/100\n",
      "19000/19000 [==============================] - 4s 218us/step - loss: 0.2392 - acc: 0.8969 - val_loss: 0.2427 - val_acc: 0.8960\n",
      "Epoch 76/100\n",
      "19000/19000 [==============================] - 4s 212us/step - loss: 0.2386 - acc: 0.8978 - val_loss: 0.2446 - val_acc: 0.8910\n",
      "Epoch 77/100\n",
      "19000/19000 [==============================] - 4s 213us/step - loss: 0.2372 - acc: 0.8982 - val_loss: 0.2434 - val_acc: 0.9010\n",
      "Epoch 78/100\n",
      "19000/19000 [==============================] - 4s 228us/step - loss: 0.2360 - acc: 0.8980 - val_loss: 0.2396 - val_acc: 0.8970\n",
      "Epoch 79/100\n",
      "19000/19000 [==============================] - 4s 233us/step - loss: 0.2355 - acc: 0.8982 - val_loss: 0.2393 - val_acc: 0.9000\n",
      "Epoch 80/100\n",
      "19000/19000 [==============================] - 4s 234us/step - loss: 0.2356 - acc: 0.8982 - val_loss: 0.2491 - val_acc: 0.8960\n",
      "Epoch 81/100\n",
      "19000/19000 [==============================] - 4s 234us/step - loss: 0.2333 - acc: 0.8993 - val_loss: 0.2615 - val_acc: 0.8830\n",
      "Epoch 82/100\n",
      "19000/19000 [==============================] - 4s 236us/step - loss: 0.2324 - acc: 0.9005 - val_loss: 0.2398 - val_acc: 0.9040\n",
      "Epoch 83/100\n",
      "19000/19000 [==============================] - 4s 216us/step - loss: 0.2304 - acc: 0.9003 - val_loss: 0.2397 - val_acc: 0.8950\n",
      "Epoch 84/100\n",
      "19000/19000 [==============================] - 4s 217us/step - loss: 0.2310 - acc: 0.9000 - val_loss: 0.2350 - val_acc: 0.9030\n",
      "Epoch 85/100\n",
      "19000/19000 [==============================] - 4s 219us/step - loss: 0.2312 - acc: 0.8998 - val_loss: 0.2406 - val_acc: 0.8980\n",
      "Epoch 86/100\n",
      "19000/19000 [==============================] - 4s 219us/step - loss: 0.2299 - acc: 0.9015 - val_loss: 0.2355 - val_acc: 0.9030\n",
      "Epoch 87/100\n",
      "19000/19000 [==============================] - 4s 210us/step - loss: 0.2292 - acc: 0.9007 - val_loss: 0.2321 - val_acc: 0.9020\n",
      "Epoch 88/100\n",
      "19000/19000 [==============================] - 4s 216us/step - loss: 0.2268 - acc: 0.9039 - val_loss: 0.2360 - val_acc: 0.9010\n",
      "Epoch 89/100\n",
      "19000/19000 [==============================] - 5s 281us/step - loss: 0.2273 - acc: 0.9011 - val_loss: 0.2329 - val_acc: 0.8930\n",
      "Epoch 90/100\n",
      "19000/19000 [==============================] - 4s 224us/step - loss: 0.2269 - acc: 0.9023 - val_loss: 0.2299 - val_acc: 0.9010\n",
      "Epoch 91/100\n",
      "19000/19000 [==============================] - 4s 236us/step - loss: 0.2256 - acc: 0.9033 - val_loss: 0.2307 - val_acc: 0.9000\n",
      "Epoch 92/100\n",
      "19000/19000 [==============================] - 4s 215us/step - loss: 0.2254 - acc: 0.9023 - val_loss: 0.2307 - val_acc: 0.8990\n",
      "Epoch 93/100\n",
      "19000/19000 [==============================] - 4s 232us/step - loss: 0.2236 - acc: 0.9034 - val_loss: 0.2278 - val_acc: 0.9020\n",
      "Epoch 94/100\n",
      "19000/19000 [==============================] - 5s 249us/step - loss: 0.2234 - acc: 0.9036 - val_loss: 0.2369 - val_acc: 0.8990\n",
      "Epoch 95/100\n",
      "19000/19000 [==============================] - 4s 220us/step - loss: 0.2222 - acc: 0.9054 - val_loss: 0.2267 - val_acc: 0.9030\n",
      "Epoch 96/100\n",
      "19000/19000 [==============================] - 4s 215us/step - loss: 0.2217 - acc: 0.9051 - val_loss: 0.2260 - val_acc: 0.9050\n",
      "Epoch 97/100\n",
      "19000/19000 [==============================] - 4s 221us/step - loss: 0.2213 - acc: 0.9049 - val_loss: 0.2302 - val_acc: 0.9000\n",
      "Epoch 98/100\n",
      "19000/19000 [==============================] - 4s 235us/step - loss: 0.2198 - acc: 0.9058 - val_loss: 0.2284 - val_acc: 0.8980\n",
      "Epoch 99/100\n",
      "19000/19000 [==============================] - 4s 222us/step - loss: 0.2195 - acc: 0.9067 - val_loss: 0.2228 - val_acc: 0.9060\n",
      "Epoch 100/100\n",
      "19000/19000 [==============================] - 4s 217us/step - loss: 0.2198 - acc: 0.9056 - val_loss: 0.2332 - val_acc: 0.9050\n"
     ]
    },
    {
     "data": {
      "text/plain": [
       "<keras.callbacks.History at 0x2b3a9908>"
      ]
     },
     "execution_count": 221,
     "metadata": {},
     "output_type": "execute_result"
    }
   ],
   "source": [
    "\n",
    "opt = keras.optimizers.Adam(lr=0.0001, beta_1=0.9, beta_2=0.999, epsilon=None, decay=0.0, amsgrad=False)\n",
    "\n",
    "model.compile(loss='categorical_crossentropy',\n",
    "              optimizer=opt,\n",
    "              metrics=['accuracy'])\n",
    "\n",
    "\n",
    "model.summary()\n",
    "\n",
    "X_train = X_train.astype('float32')\n",
    "X_test = X_test.astype('float32')\n",
    "\n",
    "\n",
    "model.fit(X_train, Y_train,\n",
    "              batch_size=100,\n",
    "              epochs=100,\n",
    "              validation_data=(X_test, Y_test),\n",
    "              shuffle=True)"
   ]
  },
  {
   "cell_type": "code",
   "execution_count": 223,
   "metadata": {
    "colab": {
     "autoexec": {
      "startup": false,
      "wait_interval": 0
     },
     "base_uri": "https://localhost:8080/",
     "height": 182,
     "output_extras": [
      {
       "item_id": 1
      }
     ]
    },
    "colab_type": "code",
    "executionInfo": {
     "elapsed": 523,
     "status": "error",
     "timestamp": 1521980693351,
     "user": {
      "displayName": "Shengyao Zhu",
      "photoUrl": "//lh6.googleusercontent.com/-VNGlsIecUiQ/AAAAAAAAAAI/AAAAAAAABMw/unjAgsJoFRE/s50-c-k-no/photo.jpg",
      "userId": "101418951298501362533"
     },
     "user_tz": -120
    },
    "id": "aKk1IWh1E58q",
    "outputId": "71a3bf32-a071-46e9-a845-3ac8f0137ac4"
   },
   "outputs": [
    {
     "data": {
      "text/plain": [
       "array([[9.9694061e-01, 3.0593653e-03],\n",
       "       [6.9098252e-01, 3.0901751e-01],\n",
       "       [6.7956018e-01, 3.2043979e-01],\n",
       "       ...,\n",
       "       [2.8659301e-04, 9.9971336e-01],\n",
       "       [2.6289956e-03, 9.9737096e-01],\n",
       "       [2.8808215e-01, 7.1191788e-01]], dtype=float32)"
      ]
     },
     "execution_count": 223,
     "metadata": {},
     "output_type": "execute_result"
    }
   ],
   "source": [
    "model.predict(X_test)"
   ]
  },
  {
   "cell_type": "code",
   "execution_count": 224,
   "metadata": {
    "colab": {
     "autoexec": {
      "startup": false,
      "wait_interval": 0
     }
    },
    "colab_type": "code",
    "id": "gfcX-ZyQBeaA"
   },
   "outputs": [
    {
     "name": "stdout",
     "output_type": "stream",
     "text": [
      "[[1. 0.]\n",
      " [1. 0.]\n",
      " [1. 0.]\n",
      " ...\n",
      " [0. 1.]\n",
      " [0. 1.]\n",
      " [0. 1.]]\n"
     ]
    }
   ],
   "source": [
    "print(Y_test)"
   ]
  },
  {
   "cell_type": "code",
   "execution_count": 226,
   "metadata": {},
   "outputs": [],
   "source": [
    "model.save(r\"C:\\working\\innovation_group\\cnn_model\\final_model.h5\")"
   ]
  }
 ],
 "metadata": {
  "accelerator": "GPU",
  "colab": {
   "collapsed_sections": [],
   "default_view": {},
   "name": "cnn_outlier_prototype.ipynb",
   "provenance": [],
   "version": "0.3.2",
   "views": {}
  },
  "kernelspec": {
   "display_name": "Python 3",
   "language": "python",
   "name": "python3"
  },
  "language_info": {
   "codemirror_mode": {
    "name": "ipython",
    "version": 3
   },
   "file_extension": ".py",
   "mimetype": "text/x-python",
   "name": "python",
   "nbconvert_exporter": "python",
   "pygments_lexer": "ipython3",
   "version": "3.6.2"
  }
 },
 "nbformat": 4,
 "nbformat_minor": 1
}
